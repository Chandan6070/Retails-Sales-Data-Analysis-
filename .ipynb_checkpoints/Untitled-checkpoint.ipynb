{
 "cells": [
  {
   "cell_type": "code",
   "execution_count": 17,
   "id": "c2013570",
   "metadata": {},
   "outputs": [
    {
     "name": "stdout",
     "output_type": "stream",
     "text": [
      "20.0\n"
     ]
    }
   ],
   "source": [
    "dictonary = [{'Name':'Chandan', 'Marks': [50,60,70]}, \n",
    "    {'Name': 'A', 'Marks': [40,60,70]}, \n",
    "    {'Name': 'B', 'Marks': [60,60,70]}]\n",
    "\n",
    " #calling lambda function to find average \n",
    "    \n",
    "\n",
    "key = lambda x : sum(x) / len(x)\n",
    "print(key([10,20,30]))\n",
    "\n",
    "\n",
    "# finding marks using lambda funtoion inside dictonary\n",
    "lambdaDict = {'Average' : lambda x : sum(x) / len(x)}"
   ]
  },
  {
   "cell_type": "code",
   "execution_count": 18,
   "id": "706755d5",
   "metadata": {},
   "outputs": [],
   "source": [
    "MaxOfMarks = {'Maximum' : lambda x : max(x), 'Third': lambda x : x[2]}"
   ]
  },
  {
   "cell_type": "code",
   "execution_count": 19,
   "id": "fb555afb",
   "metadata": {},
   "outputs": [
    {
     "data": {
      "text/plain": [
       "{'Maximum': <function __main__.<lambda>(x)>,\n",
       " 'Third': <function __main__.<lambda>(x)>}"
      ]
     },
     "execution_count": 19,
     "metadata": {},
     "output_type": "execute_result"
    }
   ],
   "source": [
    "MaxOfMarks"
   ]
  },
  {
   "cell_type": "code",
   "execution_count": 23,
   "id": "7bc7e5ab",
   "metadata": {},
   "outputs": [
    {
     "name": "stdout",
     "output_type": "stream",
     "text": [
      "Chandan [50, 60, 70]\n",
      "60.0\n",
      "70\n",
      "A [40, 60, 70]\n",
      "56.666666666666664\n",
      "70\n",
      "B [60, 60, 70]\n",
      "63.333333333333336\n",
      "70\n"
     ]
    }
   ],
   "source": [
    "for data in dictonary:\n",
    "    print(data['Name'],data['Marks'])\n",
    "    print(lambdaDict['Average'](data['Marks']))\n",
    "    print(MaxOfMarks['Maximum'](data['Marks']))"
   ]
  },
  {
   "cell_type": "code",
   "execution_count": 24,
   "id": "439e4235",
   "metadata": {},
   "outputs": [
    {
     "name": "stdout",
     "output_type": "stream",
     "text": [
      "('cahdan', 'hfkdvsg', 6876)\n"
     ]
    }
   ],
   "source": [
    "def userinfo(*args):\n",
    "    print(args)\n",
    "userinfo(\"cahdan\",\"hfkdvsg\",6876)"
   ]
  },
  {
   "cell_type": "code",
   "execution_count": 29,
   "id": "e64d5de7",
   "metadata": {},
   "outputs": [
    {
     "name": "stdout",
     "output_type": "stream",
     "text": [
      "{'age': 20}\n"
     ]
    }
   ],
   "source": [
    "def userinfo(**kwargs):\n",
    "    print(kwargs)\n",
    "userinfo(age = 20)"
   ]
  },
  {
   "cell_type": "code",
   "execution_count": 33,
   "id": "af4cfc98",
   "metadata": {},
   "outputs": [
    {
     "name": "stdout",
     "output_type": "stream",
     "text": [
      "(10, 30, 20) {'age': 20}\n"
     ]
    }
   ],
   "source": [
    "def userinfo(*args, **kwargs):\n",
    "    print(args,kwargs)\n",
    "userinfo(10,30,20, age=20)"
   ]
  },
  {
   "cell_type": "code",
   "execution_count": 52,
   "id": "c288303f",
   "metadata": {},
   "outputs": [
    {
     "name": "stdout",
     "output_type": "stream",
     "text": [
      "['hi', 'Tusar']\n",
      "1376838575232\n",
      "['hii', 'hf', 'Aditya']\n",
      "1376838584384\n"
     ]
    }
   ],
   "source": [
    "def UserSignUP(username, userList=[]):\n",
    "    userList.append(username)\n",
    "    print(userList)\n",
    "    print(id(userList))\n",
    "    \n",
    "UserSignUP('Tusar',['hi'])\n",
    "UserSignUP('Aditya',['hii','hf'])\n"
   ]
  },
  {
   "cell_type": "code",
   "execution_count": 58,
   "id": "0ad94aa1",
   "metadata": {},
   "outputs": [
    {
     "name": "stdout",
     "output_type": "stream",
     "text": [
      "10\n",
      "10 20 30\n"
     ]
    }
   ],
   "source": [
    "def func(x,y,z):\n",
    "    print(x)\n",
    "    print(x,y,z)\n",
    "a= (10,20,30)\n",
    "func(*a) # accessing multiple value us\n"
   ]
  },
  {
   "cell_type": "code",
   "execution_count": 1,
   "id": "9168194b",
   "metadata": {},
   "outputs": [
    {
     "name": "stdout",
     "output_type": "stream",
     "text": [
      "1 1 1 1\n",
      "2 2 2 2\n",
      "Addition of Two Arrays:\n",
      "[[3 3]\n",
      " [3 3]]\n",
      "Square root of Matrix-1 elements:\n",
      "[[1. 1.]\n",
      " [1. 1.]]\n",
      "Square root of Matrix-2 elements:\n",
      "[[1.41421356 1.41421356]\n",
      " [1.41421356 1.41421356]]\n",
      "Transpose of Matrix-1:\n",
      "[[1 1]\n",
      " [1 1]]\n",
      "Transpose of Matrix-2:\n",
      "[[2 2]\n",
      " [2 2]]\n"
     ]
    }
   ],
   "source": [
    "import numpy as np\n",
    "a = list(map(int, input().strip().split(\" \")))\n",
    "b = list(map(int,input().strip().split(\" \")))\n",
    "arr1 = np.array(a).reshape(2,2)\n",
    "arr2 = np.array(b).reshape(2,2)\n",
    "\n",
    "print('Addition of Two Arrays:')\n",
    "\n",
    "print(np.add(arr1,arr2))\n",
    "\n",
    "print('Square root of Matrix-1 elements:')\n",
    "print(np.sqrt(arr1))\n",
    "\n",
    "print('Square root of Matrix-2 elements:')\n",
    "print(np.sqrt(arr2))\n",
    "\n",
    "print('Transpose of Matrix-1:')\n",
    "print(np.transpose(arr1))\n",
    "\n",
    "print('Transpose of Matrix-2:')\n",
    "print(np.transpose(arr2))\n"
   ]
  },
  {
   "cell_type": "code",
   "execution_count": 6,
   "id": "a5a23c06",
   "metadata": {},
   "outputs": [
    {
     "name": "stdout",
     "output_type": "stream",
     "text": [
      "1 2 3 4 5\n",
      "5 4 3 2 1\n",
      "5 3 2 1 4\n",
      "3 5 4 2 1 \n",
      "4 3 5 2 1 \n",
      "1 5 4 3 2 \n",
      "After removing first 3 rows\n",
      "   P  Q  R  S  T\n",
      "d  3  5  4  2  1\n",
      "e  4  3  5  2  1\n",
      "f  1  5  4  3  2\n",
      "After removing last 3 rows\n",
      "   P  Q  R  S  T\n",
      "d  3  5  4  2  1\n",
      "e  4  3  5  2  1\n",
      "f  1  5  4  3  2\n"
     ]
    }
   ],
   "source": [
    "import pandas as pd\n",
    "l1=list(str(num) for num in input(\"\").strip().split())[:5]\n",
    "l2=list(str(num) for num in input(\"\").strip().split())[:5]\n",
    "l3=list(str(num) for num in input(\"\").strip().split())[:5]\n",
    "l4=list(str(num) for num in input(\"\").strip().split())[:5]\n",
    "l5=list(str(num) for num in input(\"\").strip().split())[:5]\n",
    "l6=list(str(num) for num in input(\"\").strip().split())[:5]\n",
    "\n",
    "df = pd.DataFrame([l1,l2,l3,l4,l5,l6],index = ['a','b','c','d','e','f'], columns = ['P','Q','R','S','T'])\n",
    "print('After removing first 3 rows')\n",
    "print(df.iloc[3:])\n",
    "\n",
    "print('After removing last 3 rows')\n",
    "print(df.iloc[3:])\n"
   ]
  },
  {
   "cell_type": "code",
   "execution_count": 3,
   "id": "62281a4e",
   "metadata": {},
   "outputs": [
    {
     "data": {
      "text/plain": [
       "array([ 2.,  4.,  6.,  8., 10.])"
      ]
     },
     "execution_count": 3,
     "metadata": {},
     "output_type": "execute_result"
    }
   ],
   "source": [
    "import numpy as np\n",
    "np.linspace(2,10,5)"
   ]
  },
  {
   "cell_type": "code",
   "execution_count": 4,
   "id": "91554fd3",
   "metadata": {},
   "outputs": [
    {
     "data": {
      "text/plain": [
       "array(['T', 'H', 'i', 's', ' ', 'i', 's', ' ', 'a', ' ', 'd', 'a', 't',\n",
       "       'a', 's', 'c', 'i', 'e', 'n', 'c', 'e'], dtype='<U2')"
      ]
     },
     "execution_count": 4,
     "metadata": {},
     "output_type": "execute_result"
    }
   ],
   "source": [
    "var = 'THis is a datascience'\n",
    "arr = np.fromiter(var,dtype='U2')\n",
    "arr\n"
   ]
  },
  {
   "cell_type": "code",
   "execution_count": 6,
   "id": "7fa04359",
   "metadata": {},
   "outputs": [
    {
     "name": "stdout",
     "output_type": "stream",
     "text": [
      "[10  9 20]\n",
      "[[ 5  5]\n",
      " [16  4]]\n"
     ]
    }
   ],
   "source": [
    "b = np.array([[5,5],[4,5],[16,4]])\n",
    "s = b.sum(-1)\n",
    "print(s)\n",
    "print(b[s%10==0])"
   ]
  },
  {
   "cell_type": "code",
   "execution_count": 5,
   "id": "73f199a6",
   "metadata": {},
   "outputs": [
    {
     "name": "stdout",
     "output_type": "stream",
     "text": [
      "None\n"
     ]
    }
   ],
   "source": [
    "def RL(x):\n",
    "    if x == 'I':\n",
    "        return 1\n",
    "    elif x == 'V':\n",
    "        return 2\n",
    "    elif x == 'X':\n",
    "        return 10\n",
    "    elif x == 'L':\n",
    "        return 50\n",
    "    elif x == 'C':\n",
    "        return 100\n",
    "    elif x == 'D':\n",
    "        return 500\n",
    "    return -1\n",
    "\n",
    "    \n",
    "def RomToInt(str):\n",
    "    a =0\n",
    "    i =0\n",
    "    while(i<len(str)):\n",
    "        X1 = RL(str[i])\n",
    "        if (i+1<len(str)):\n",
    "            X2 = RL(str[i+1])\n",
    "            if X1 >= X2:\n",
    "                a = a+10\n",
    "                i = i+1\n",
    "            else:\n",
    "                a = a +X2\n",
    "                i = i+1\n",
    "        else:\n",
    "            a = a+X1\n",
    "            i = i + 1\n",
    "\n",
    "print(RomToInt('V'))"
   ]
  },
  {
   "cell_type": "code",
   "execution_count": 1,
   "id": "02a03657",
   "metadata": {},
   "outputs": [
    {
     "name": "stdout",
     "output_type": "stream",
     "text": [
      "hello world"
     ]
    },
    {
     "data": {
      "text/plain": [
       "11"
      ]
     },
     "execution_count": 1,
     "metadata": {},
     "output_type": "execute_result"
    }
   ],
   "source": [
    "import sys\n",
    "sys.stdout.write(\"hello world\")"
   ]
  },
  {
   "cell_type": "code",
   "execution_count": 2,
   "id": "688adaa7",
   "metadata": {},
   "outputs": [
    {
     "name": "stdout",
     "output_type": "stream",
     "text": [
      "('[0] [1]',)\n"
     ]
    }
   ],
   "source": [
    "x = [[0], [1]]\n",
    "\n",
    "print((' '.join(list(map(str, x))),))"
   ]
  },
  {
   "cell_type": "code",
   "execution_count": 7,
   "id": "b8b83c91",
   "metadata": {},
   "outputs": [
    {
     "ename": "SyntaxError",
     "evalue": "unexpected EOF while parsing (<string>, line 0)",
     "output_type": "error",
     "traceback": [
      "Traceback \u001b[1;36m(most recent call last)\u001b[0m:\n",
      "  File \u001b[0;32m\"C:\\Users\\Miles Education\\anaconda3\\lib\\site-packages\\IPython\\core\\interactiveshell.py\"\u001b[0m, line \u001b[0;32m3457\u001b[0m, in \u001b[0;35mrun_code\u001b[0m\n    exec(code_obj, self.user_global_ns, self.user_ns)\n",
      "\u001b[1;36m  File \u001b[1;32m\"C:\\Users\\Miles Education\\AppData\\Local\\Temp\\ipykernel_4440\\514202360.py\"\u001b[1;36m, line \u001b[1;32m3\u001b[1;36m, in \u001b[1;35m<module>\u001b[1;36m\u001b[0m\n\u001b[1;33m    eval(sys.stdin.readline())\u001b[0m\n",
      "\u001b[1;36m  File \u001b[1;32m\"<string>\"\u001b[1;36m, line \u001b[1;32munknown\u001b[0m\n\u001b[1;33m    \u001b[0m\n\u001b[1;37m    ^\u001b[0m\n\u001b[1;31mSyntaxError\u001b[0m\u001b[1;31m:\u001b[0m unexpected EOF while parsing\n"
     ]
    }
   ],
   "source": [
    "import sys\n",
    "\n",
    "eval(sys.stdin.readline())\n"
   ]
  },
  {
   "cell_type": "code",
   "execution_count": 8,
   "id": "7cc4bba5",
   "metadata": {},
   "outputs": [
    {
     "name": "stdout",
     "output_type": "stream",
     "text": [
      "[[ 4  5  6]\n",
      " [ 8 10 12]\n",
      " [12 15 18]]\n"
     ]
    }
   ],
   "source": [
    "import numpy as np\n",
    "\n",
    "a = np.array([1, 2, 3])\n",
    "\n",
    "b = np.array([4, 5, 6])\n",
    "\n",
    "c = np.outer(a, b)\n",
    "\n",
    "print(c)"
   ]
  },
  {
   "cell_type": "code",
   "execution_count": 9,
   "id": "632708fe",
   "metadata": {},
   "outputs": [
    {
     "ename": "NameError",
     "evalue": "name 'reduce' is not defined",
     "output_type": "error",
     "traceback": [
      "\u001b[1;31m---------------------------------------------------------------------------\u001b[0m",
      "\u001b[1;31mNameError\u001b[0m                                 Traceback (most recent call last)",
      "\u001b[1;32m~\\AppData\\Local\\Temp\\ipykernel_4440\\1144476443.py\u001b[0m in \u001b[0;36m<module>\u001b[1;34m\u001b[0m\n\u001b[1;32m----> 1\u001b[1;33m \u001b[0mm\u001b[0m\u001b[1;33m=\u001b[0m\u001b[0mreduce\u001b[0m\u001b[1;33m(\u001b[0m\u001b[1;32mlambda\u001b[0m \u001b[0mx\u001b[0m\u001b[1;33m:\u001b[0m \u001b[0mx\u001b[0m\u001b[1;33m-\u001b[0m\u001b[1;36m3\u001b[0m \u001b[1;32min\u001b[0m \u001b[0mrange\u001b[0m\u001b[1;33m(\u001b[0m\u001b[1;36m4\u001b[0m\u001b[1;33m,\u001b[0m \u001b[1;36m10\u001b[0m\u001b[1;33m)\u001b[0m\u001b[1;33m)\u001b[0m\u001b[1;33m\u001b[0m\u001b[1;33m\u001b[0m\u001b[0m\n\u001b[0m\u001b[0;32m      2\u001b[0m \u001b[1;33m\u001b[0m\u001b[0m\n\u001b[0;32m      3\u001b[0m \u001b[0mprint\u001b[0m\u001b[1;33m(\u001b[0m\u001b[0mlist\u001b[0m\u001b[1;33m(\u001b[0m\u001b[0mm\u001b[0m\u001b[1;33m)\u001b[0m\u001b[1;33m)\u001b[0m\u001b[1;33m\u001b[0m\u001b[1;33m\u001b[0m\u001b[0m\n",
      "\u001b[1;31mNameError\u001b[0m: name 'reduce' is not defined"
     ]
    }
   ],
   "source": [
    "m=reduce(lambda x: x-3 in range(4, 10))\n",
    "\n",
    "print(list(m))"
   ]
  },
  {
   "cell_type": "code",
   "execution_count": 10,
   "id": "c445f6fc",
   "metadata": {},
   "outputs": [
    {
     "name": "stdout",
     "output_type": "stream",
     "text": [
      "[10 14 18]\n"
     ]
    }
   ],
   "source": [
    "import numpy as np\n",
    "\n",
    "a = np.array([1, 2, 3])\n",
    "\n",
    "b = np.array([4, 5, 6])\n",
    "\n",
    "c = a + b\n",
    "\n",
    "print(c * 2)"
   ]
  },
  {
   "cell_type": "code",
   "execution_count": 11,
   "id": "b57fbaca",
   "metadata": {},
   "outputs": [
    {
     "name": "stdout",
     "output_type": "stream",
     "text": [
      "[[2 4]\n",
      " [4 6]]\n"
     ]
    }
   ],
   "source": [
    "import numpy as np\n",
    "\n",
    "a = np.array([[1, 2], [3, 4]])\n",
    "\n",
    "b = np.array([1, 2])\n",
    "\n",
    "c = a + b\n",
    "\n",
    "print(c)"
   ]
  },
  {
   "cell_type": "code",
   "execution_count": 12,
   "id": "af3983a4",
   "metadata": {},
   "outputs": [],
   "source": [
    "import pandas as pd\n",
    "data = {'name': ['John', 'Mary', 'Jack', 'Tom', 'Lisa'], \n",
    "        'age': [28, 30, 35, 40, 28], \n",
    "        'city': ['London', 'Rome', 'Paris', 'Berlin', 'London']}\n",
    "df = pd.DataFrame(data)"
   ]
  },
  {
   "cell_type": "code",
   "execution_count": 13,
   "id": "eee5abcd",
   "metadata": {},
   "outputs": [
    {
     "data": {
      "text/html": [
       "<div>\n",
       "<style scoped>\n",
       "    .dataframe tbody tr th:only-of-type {\n",
       "        vertical-align: middle;\n",
       "    }\n",
       "\n",
       "    .dataframe tbody tr th {\n",
       "        vertical-align: top;\n",
       "    }\n",
       "\n",
       "    .dataframe thead th {\n",
       "        text-align: right;\n",
       "    }\n",
       "</style>\n",
       "<table border=\"1\" class=\"dataframe\">\n",
       "  <thead>\n",
       "    <tr style=\"text-align: right;\">\n",
       "      <th></th>\n",
       "      <th>name</th>\n",
       "      <th>age</th>\n",
       "      <th>city</th>\n",
       "    </tr>\n",
       "  </thead>\n",
       "  <tbody>\n",
       "    <tr>\n",
       "      <th>0</th>\n",
       "      <td>John</td>\n",
       "      <td>28</td>\n",
       "      <td>London</td>\n",
       "    </tr>\n",
       "    <tr>\n",
       "      <th>1</th>\n",
       "      <td>Mary</td>\n",
       "      <td>30</td>\n",
       "      <td>Rome</td>\n",
       "    </tr>\n",
       "    <tr>\n",
       "      <th>2</th>\n",
       "      <td>Jack</td>\n",
       "      <td>35</td>\n",
       "      <td>Paris</td>\n",
       "    </tr>\n",
       "  </tbody>\n",
       "</table>\n",
       "</div>"
      ],
      "text/plain": [
       "   name  age    city\n",
       "0  John   28  London\n",
       "1  Mary   30    Rome\n",
       "2  Jack   35   Paris"
      ]
     },
     "execution_count": 13,
     "metadata": {},
     "output_type": "execute_result"
    }
   ],
   "source": [
    "df.head(3)"
   ]
  },
  {
   "cell_type": "code",
   "execution_count": 14,
   "id": "1747e46d",
   "metadata": {},
   "outputs": [
    {
     "data": {
      "text/html": [
       "<div>\n",
       "<style scoped>\n",
       "    .dataframe tbody tr th:only-of-type {\n",
       "        vertical-align: middle;\n",
       "    }\n",
       "\n",
       "    .dataframe tbody tr th {\n",
       "        vertical-align: top;\n",
       "    }\n",
       "\n",
       "    .dataframe thead th {\n",
       "        text-align: right;\n",
       "    }\n",
       "</style>\n",
       "<table border=\"1\" class=\"dataframe\">\n",
       "  <thead>\n",
       "    <tr style=\"text-align: right;\">\n",
       "      <th></th>\n",
       "      <th>age</th>\n",
       "    </tr>\n",
       "  </thead>\n",
       "  <tbody>\n",
       "    <tr>\n",
       "      <th>count</th>\n",
       "      <td>5.000000</td>\n",
       "    </tr>\n",
       "    <tr>\n",
       "      <th>mean</th>\n",
       "      <td>32.200000</td>\n",
       "    </tr>\n",
       "    <tr>\n",
       "      <th>std</th>\n",
       "      <td>5.215362</td>\n",
       "    </tr>\n",
       "    <tr>\n",
       "      <th>min</th>\n",
       "      <td>28.000000</td>\n",
       "    </tr>\n",
       "    <tr>\n",
       "      <th>25%</th>\n",
       "      <td>28.000000</td>\n",
       "    </tr>\n",
       "    <tr>\n",
       "      <th>50%</th>\n",
       "      <td>30.000000</td>\n",
       "    </tr>\n",
       "    <tr>\n",
       "      <th>75%</th>\n",
       "      <td>35.000000</td>\n",
       "    </tr>\n",
       "    <tr>\n",
       "      <th>max</th>\n",
       "      <td>40.000000</td>\n",
       "    </tr>\n",
       "  </tbody>\n",
       "</table>\n",
       "</div>"
      ],
      "text/plain": [
       "             age\n",
       "count   5.000000\n",
       "mean   32.200000\n",
       "std     5.215362\n",
       "min    28.000000\n",
       "25%    28.000000\n",
       "50%    30.000000\n",
       "75%    35.000000\n",
       "max    40.000000"
      ]
     },
     "execution_count": 14,
     "metadata": {},
     "output_type": "execute_result"
    }
   ],
   "source": [
    "df.describe()"
   ]
  },
  {
   "cell_type": "code",
   "execution_count": 16,
   "id": "398cdabd",
   "metadata": {},
   "outputs": [],
   "source": [
    "def get_country(city):\n",
    "    if city == 'London':\n",
    "        return 'England'\n",
    "    elif city == 'Paris':\n",
    "        return 'France'\n",
    "    else:\n",
    "        return 'Unknown' \n",
    "\n",
    "df['Country'] = df['city'].apply(get_country)"
   ]
  },
  {
   "cell_type": "code",
   "execution_count": 17,
   "id": "fca7f782",
   "metadata": {},
   "outputs": [
    {
     "data": {
      "text/html": [
       "<div>\n",
       "<style scoped>\n",
       "    .dataframe tbody tr th:only-of-type {\n",
       "        vertical-align: middle;\n",
       "    }\n",
       "\n",
       "    .dataframe tbody tr th {\n",
       "        vertical-align: top;\n",
       "    }\n",
       "\n",
       "    .dataframe thead th {\n",
       "        text-align: right;\n",
       "    }\n",
       "</style>\n",
       "<table border=\"1\" class=\"dataframe\">\n",
       "  <thead>\n",
       "    <tr style=\"text-align: right;\">\n",
       "      <th></th>\n",
       "      <th>name</th>\n",
       "      <th>age</th>\n",
       "      <th>city</th>\n",
       "      <th>Country</th>\n",
       "    </tr>\n",
       "  </thead>\n",
       "  <tbody>\n",
       "    <tr>\n",
       "      <th>0</th>\n",
       "      <td>John</td>\n",
       "      <td>28</td>\n",
       "      <td>London</td>\n",
       "      <td>England</td>\n",
       "    </tr>\n",
       "    <tr>\n",
       "      <th>1</th>\n",
       "      <td>Mary</td>\n",
       "      <td>30</td>\n",
       "      <td>Rome</td>\n",
       "      <td>Unknown</td>\n",
       "    </tr>\n",
       "    <tr>\n",
       "      <th>2</th>\n",
       "      <td>Jack</td>\n",
       "      <td>35</td>\n",
       "      <td>Paris</td>\n",
       "      <td>France</td>\n",
       "    </tr>\n",
       "    <tr>\n",
       "      <th>3</th>\n",
       "      <td>Tom</td>\n",
       "      <td>40</td>\n",
       "      <td>Berlin</td>\n",
       "      <td>Unknown</td>\n",
       "    </tr>\n",
       "    <tr>\n",
       "      <th>4</th>\n",
       "      <td>Lisa</td>\n",
       "      <td>28</td>\n",
       "      <td>London</td>\n",
       "      <td>England</td>\n",
       "    </tr>\n",
       "  </tbody>\n",
       "</table>\n",
       "</div>"
      ],
      "text/plain": [
       "   name  age    city  Country\n",
       "0  John   28  London  England\n",
       "1  Mary   30    Rome  Unknown\n",
       "2  Jack   35   Paris   France\n",
       "3   Tom   40  Berlin  Unknown\n",
       "4  Lisa   28  London  England"
      ]
     },
     "execution_count": 17,
     "metadata": {},
     "output_type": "execute_result"
    }
   ],
   "source": [
    "df"
   ]
  },
  {
   "cell_type": "code",
   "execution_count": 33,
   "id": "a7d4a937",
   "metadata": {},
   "outputs": [],
   "source": [
    "import pandas as pd\n",
    "\n",
    "data = {\n",
    "    'Date': ['2023-01-01', '2023-01-01', '2023-01-01', '2023-01-01', '2023-01-01'] * 20 + \n",
    "           ['2023-01-02', '2023-01-02', '2023-01-02', '2023-01-02', '2023-01-02'] * 20 + \n",
    "           ['2023-01-03', '2023-01-03', '2023-01-03', '2023-01-03', '2023-01-03'] * 20,\n",
    "    'City': ['New York', 'Los Angeles', 'Chicago', 'Houston', 'Phoenix'] * 60,\n",
    "    'MaxTemp': [32, 75, 30, 65, 70] * 20 + [30, 73, 28, 63, 68] * 20 + [34, 77, 32, 67, 72] * 20,\n",
    "    'MinTemp': [25, 58, 20, 40, 45] * 20 + [23, 56, 18, 38, 43] * 20 + [27, 60, 22, 42, 47] * 20\n",
    "}\n",
    "\n",
    "df = pd.DataFrame(data)"
   ]
  },
  {
   "cell_type": "code",
   "execution_count": 36,
   "id": "e7ffce34",
   "metadata": {},
   "outputs": [],
   "source": [
    "dataframe = df.copy()"
   ]
  },
  {
   "cell_type": "code",
   "execution_count": 37,
   "id": "4d837ea8",
   "metadata": {},
   "outputs": [
    {
     "data": {
      "text/html": [
       "<div>\n",
       "<style scoped>\n",
       "    .dataframe tbody tr th:only-of-type {\n",
       "        vertical-align: middle;\n",
       "    }\n",
       "\n",
       "    .dataframe tbody tr th {\n",
       "        vertical-align: top;\n",
       "    }\n",
       "\n",
       "    .dataframe thead th {\n",
       "        text-align: right;\n",
       "    }\n",
       "</style>\n",
       "<table border=\"1\" class=\"dataframe\">\n",
       "  <thead>\n",
       "    <tr style=\"text-align: right;\">\n",
       "      <th></th>\n",
       "      <th>Date</th>\n",
       "      <th>City</th>\n",
       "      <th>MaxTemp</th>\n",
       "      <th>MinTemp</th>\n",
       "      <th>Daily Temperarture Range</th>\n",
       "    </tr>\n",
       "  </thead>\n",
       "  <tbody>\n",
       "    <tr>\n",
       "      <th>0</th>\n",
       "      <td>2023-01-01</td>\n",
       "      <td>New York</td>\n",
       "      <td>32</td>\n",
       "      <td>25</td>\n",
       "      <td>7</td>\n",
       "    </tr>\n",
       "    <tr>\n",
       "      <th>1</th>\n",
       "      <td>2023-01-01</td>\n",
       "      <td>Los Angeles</td>\n",
       "      <td>75</td>\n",
       "      <td>58</td>\n",
       "      <td>17</td>\n",
       "    </tr>\n",
       "    <tr>\n",
       "      <th>2</th>\n",
       "      <td>2023-01-01</td>\n",
       "      <td>Chicago</td>\n",
       "      <td>30</td>\n",
       "      <td>20</td>\n",
       "      <td>10</td>\n",
       "    </tr>\n",
       "    <tr>\n",
       "      <th>3</th>\n",
       "      <td>2023-01-01</td>\n",
       "      <td>Houston</td>\n",
       "      <td>65</td>\n",
       "      <td>40</td>\n",
       "      <td>25</td>\n",
       "    </tr>\n",
       "    <tr>\n",
       "      <th>4</th>\n",
       "      <td>2023-01-01</td>\n",
       "      <td>Phoenix</td>\n",
       "      <td>70</td>\n",
       "      <td>45</td>\n",
       "      <td>25</td>\n",
       "    </tr>\n",
       "    <tr>\n",
       "      <th>...</th>\n",
       "      <td>...</td>\n",
       "      <td>...</td>\n",
       "      <td>...</td>\n",
       "      <td>...</td>\n",
       "      <td>...</td>\n",
       "    </tr>\n",
       "    <tr>\n",
       "      <th>295</th>\n",
       "      <td>2023-01-03</td>\n",
       "      <td>New York</td>\n",
       "      <td>34</td>\n",
       "      <td>27</td>\n",
       "      <td>7</td>\n",
       "    </tr>\n",
       "    <tr>\n",
       "      <th>296</th>\n",
       "      <td>2023-01-03</td>\n",
       "      <td>Los Angeles</td>\n",
       "      <td>77</td>\n",
       "      <td>60</td>\n",
       "      <td>17</td>\n",
       "    </tr>\n",
       "    <tr>\n",
       "      <th>297</th>\n",
       "      <td>2023-01-03</td>\n",
       "      <td>Chicago</td>\n",
       "      <td>32</td>\n",
       "      <td>22</td>\n",
       "      <td>10</td>\n",
       "    </tr>\n",
       "    <tr>\n",
       "      <th>298</th>\n",
       "      <td>2023-01-03</td>\n",
       "      <td>Houston</td>\n",
       "      <td>67</td>\n",
       "      <td>42</td>\n",
       "      <td>25</td>\n",
       "    </tr>\n",
       "    <tr>\n",
       "      <th>299</th>\n",
       "      <td>2023-01-03</td>\n",
       "      <td>Phoenix</td>\n",
       "      <td>72</td>\n",
       "      <td>47</td>\n",
       "      <td>25</td>\n",
       "    </tr>\n",
       "  </tbody>\n",
       "</table>\n",
       "<p>300 rows × 5 columns</p>\n",
       "</div>"
      ],
      "text/plain": [
       "           Date         City  MaxTemp  MinTemp  Daily Temperarture Range\n",
       "0    2023-01-01     New York       32       25                         7\n",
       "1    2023-01-01  Los Angeles       75       58                        17\n",
       "2    2023-01-01      Chicago       30       20                        10\n",
       "3    2023-01-01      Houston       65       40                        25\n",
       "4    2023-01-01      Phoenix       70       45                        25\n",
       "..          ...          ...      ...      ...                       ...\n",
       "295  2023-01-03     New York       34       27                         7\n",
       "296  2023-01-03  Los Angeles       77       60                        17\n",
       "297  2023-01-03      Chicago       32       22                        10\n",
       "298  2023-01-03      Houston       67       42                        25\n",
       "299  2023-01-03      Phoenix       72       47                        25\n",
       "\n",
       "[300 rows x 5 columns]"
      ]
     },
     "execution_count": 37,
     "metadata": {},
     "output_type": "execute_result"
    }
   ],
   "source": [
    "dataframe['Daily Temperarture Range'] = dataframe['MaxTemp']-dataframe['MinTemp']\n",
    "dataframe"
   ]
  },
  {
   "cell_type": "code",
   "execution_count": 38,
   "id": "3212159f",
   "metadata": {},
   "outputs": [
    {
     "data": {
      "text/html": [
       "<div>\n",
       "<style scoped>\n",
       "    .dataframe tbody tr th:only-of-type {\n",
       "        vertical-align: middle;\n",
       "    }\n",
       "\n",
       "    .dataframe tbody tr th {\n",
       "        vertical-align: top;\n",
       "    }\n",
       "\n",
       "    .dataframe thead th {\n",
       "        text-align: right;\n",
       "    }\n",
       "</style>\n",
       "<table border=\"1\" class=\"dataframe\">\n",
       "  <thead>\n",
       "    <tr style=\"text-align: right;\">\n",
       "      <th></th>\n",
       "      <th>City</th>\n",
       "      <th>Daily Temperarture Range</th>\n",
       "    </tr>\n",
       "  </thead>\n",
       "  <tbody>\n",
       "    <tr>\n",
       "      <th>0</th>\n",
       "      <td>Chicago</td>\n",
       "      <td>10.0</td>\n",
       "    </tr>\n",
       "    <tr>\n",
       "      <th>1</th>\n",
       "      <td>Houston</td>\n",
       "      <td>25.0</td>\n",
       "    </tr>\n",
       "    <tr>\n",
       "      <th>2</th>\n",
       "      <td>Los Angeles</td>\n",
       "      <td>17.0</td>\n",
       "    </tr>\n",
       "    <tr>\n",
       "      <th>3</th>\n",
       "      <td>New York</td>\n",
       "      <td>7.0</td>\n",
       "    </tr>\n",
       "    <tr>\n",
       "      <th>4</th>\n",
       "      <td>Phoenix</td>\n",
       "      <td>25.0</td>\n",
       "    </tr>\n",
       "  </tbody>\n",
       "</table>\n",
       "</div>"
      ],
      "text/plain": [
       "          City  Daily Temperarture Range\n",
       "0      Chicago                      10.0\n",
       "1      Houston                      25.0\n",
       "2  Los Angeles                      17.0\n",
       "3     New York                       7.0\n",
       "4      Phoenix                      25.0"
      ]
     },
     "execution_count": 38,
     "metadata": {},
     "output_type": "execute_result"
    }
   ],
   "source": [
    "dataframe = dataframe.groupby('City')\n",
    "avg_daily_temp = dataframe['Daily Temperarture Range'].mean().reset_index()\n",
    "avg_daily_temp"
   ]
  },
  {
   "cell_type": "code",
   "execution_count": 39,
   "id": "dbc45ce4",
   "metadata": {},
   "outputs": [
    {
     "data": {
      "text/plain": [
       "City\n",
       "Chicago        202\n",
       "Houston        203\n",
       "Los Angeles    201\n",
       "New York       200\n",
       "Phoenix        204\n",
       "Name: MaxTemp, dtype: int64"
      ]
     },
     "execution_count": 39,
     "metadata": {},
     "output_type": "execute_result"
    }
   ],
   "source": [
    "highest_temp = dataframe['MaxTemp'].idxmax()\n",
    "highest_temp"
   ]
  },
  {
   "cell_type": "code",
   "execution_count": null,
   "id": "f2fde0c7",
   "metadata": {},
   "outputs": [],
   "source": []
  },
  {
   "cell_type": "code",
   "execution_count": 40,
   "id": "6b807898",
   "metadata": {},
   "outputs": [
    {
     "ename": "AttributeError",
     "evalue": "'DataFrameGroupBy' object has no attribute 'iloc'",
     "output_type": "error",
     "traceback": [
      "\u001b[1;31m---------------------------------------------------------------------------\u001b[0m",
      "\u001b[1;31mAttributeError\u001b[0m                            Traceback (most recent call last)",
      "\u001b[1;32m~\\AppData\\Local\\Temp\\ipykernel_2148\\1117884137.py\u001b[0m in \u001b[0;36m<module>\u001b[1;34m\u001b[0m\n\u001b[1;32m----> 1\u001b[1;33m \u001b[0mhighest_temp_date\u001b[0m \u001b[1;33m=\u001b[0m \u001b[0mdataframe\u001b[0m\u001b[1;33m.\u001b[0m\u001b[0miloc\u001b[0m\u001b[1;33m[\u001b[0m\u001b[0mhighest_temp\u001b[0m\u001b[1;33m,\u001b[0m \u001b[1;33m[\u001b[0m\u001b[1;34m'City'\u001b[0m\u001b[1;33m,\u001b[0m \u001b[1;34m'Date'\u001b[0m\u001b[1;33m,\u001b[0m \u001b[1;34m'MaxTemp'\u001b[0m\u001b[1;33m]\u001b[0m\u001b[1;33m]\u001b[0m\u001b[1;33m.\u001b[0m\u001b[0mreset_index\u001b[0m\u001b[1;33m(\u001b[0m\u001b[0mdrop\u001b[0m\u001b[1;33m=\u001b[0m\u001b[1;32mTrue\u001b[0m\u001b[1;33m)\u001b[0m\u001b[1;33m\u001b[0m\u001b[1;33m\u001b[0m\u001b[0m\n\u001b[0m\u001b[0;32m      2\u001b[0m \u001b[0mhighest_temp_date\u001b[0m\u001b[1;33m\u001b[0m\u001b[1;33m\u001b[0m\u001b[0m\n",
      "\u001b[1;32m~\\anaconda3\\lib\\site-packages\\pandas\\core\\groupby\\groupby.py\u001b[0m in \u001b[0;36m__getattr__\u001b[1;34m(self, attr)\u001b[0m\n\u001b[0;32m    902\u001b[0m             \u001b[1;32mreturn\u001b[0m \u001b[0mself\u001b[0m\u001b[1;33m[\u001b[0m\u001b[0mattr\u001b[0m\u001b[1;33m]\u001b[0m\u001b[1;33m\u001b[0m\u001b[1;33m\u001b[0m\u001b[0m\n\u001b[0;32m    903\u001b[0m \u001b[1;33m\u001b[0m\u001b[0m\n\u001b[1;32m--> 904\u001b[1;33m         raise AttributeError(\n\u001b[0m\u001b[0;32m    905\u001b[0m             \u001b[1;34mf\"'{type(self).__name__}' object has no attribute '{attr}'\"\u001b[0m\u001b[1;33m\u001b[0m\u001b[1;33m\u001b[0m\u001b[0m\n\u001b[0;32m    906\u001b[0m         )\n",
      "\u001b[1;31mAttributeError\u001b[0m: 'DataFrameGroupBy' object has no attribute 'iloc'"
     ]
    }
   ],
   "source": [
    "highest_temp_date = dataframe.iloc[highest_temp, ['City', 'Date', 'MaxTemp']].reset_index(drop=True)\n",
    "highest_temp_date"
   ]
  },
  {
   "cell_type": "code",
   "execution_count": null,
   "id": "9a331e04",
   "metadata": {},
   "outputs": [],
   "source": []
  },
  {
   "cell_type": "code",
   "execution_count": null,
   "id": "22f7c964",
   "metadata": {},
   "outputs": [],
   "source": []
  },
  {
   "cell_type": "code",
   "execution_count": null,
   "id": "75cdc20d",
   "metadata": {},
   "outputs": [],
   "source": [
    "def analyze_weather_data(dataframe):\n",
    "    # Calculate the difference between the maximum and minimum temperature for each city on each day\n",
    "    dataframe['DailyTempRange'] = dataframe['MaxTemp'] - dataframe['MinTemp']\n",
    "\n",
    "    # Group the data by city\n",
    "    grouped_df = dataframe.groupby('City')\n",
    "\n",
    "    # Calculate the average daily temperature range for each city\n",
    "    avg_temp_range = grouped_df['DailyTempRange'].mean().reset_index()\n",
    "\n",
    "    # Find the highest temperature and the corresponding date for each city\n",
    "    highest_temp = grouped_df['MaxTemp'].idxmax()\n",
    "    highest_temp_date = dataframe.loc[highest_temp, ['City', 'Date', 'MaxTemp']].reset_index(drop=True)\n",
    "\n",
    "    # Find the lowest temperature and the corresponding date for each city\n",
    "    lowest_temp = grouped_df['MinTemp'].idxmin()\n",
    "    lowest_temp_date = dataframe.loc[lowest_temp, ['City', 'Date', 'MinTemp']].reset_index(drop=True)\n",
    "\n",
    "    # Merge the dataframes together\n",
    "    result_df = avg_temp_range.merge(highest_temp_date, on='City').merge(lowest_temp_date, on='City')\n",
    "\n",
    "    # Rename the columns\n",
    "    result_df.columns = ['City', 'Average Daily Temp Range', 'Highest Temp Date', 'Highest Temp', 'Lowest Temp Date', 'Lowest Temp']\n",
    "\n",
    "    # Sort the resulting DataFrame by the average daily temperature range in descending order\n",
    "    sorted_df = result_df.sort_values(by='Average Daily Temp Range', ascending=False)\n",
    "\n",
    "    # Print the resulting DataFrame\n",
    "    print(sorted_df)\n",
    "\n",
    "analyze_weather_data(df)\n"
   ]
  }
 ],
 "metadata": {
  "kernelspec": {
   "display_name": "Python 3 (ipykernel)",
   "language": "python",
   "name": "python3"
  },
  "language_info": {
   "codemirror_mode": {
    "name": "ipython",
    "version": 3
   },
   "file_extension": ".py",
   "mimetype": "text/x-python",
   "name": "python",
   "nbconvert_exporter": "python",
   "pygments_lexer": "ipython3",
   "version": "3.9.13"
  }
 },
 "nbformat": 4,
 "nbformat_minor": 5
}
