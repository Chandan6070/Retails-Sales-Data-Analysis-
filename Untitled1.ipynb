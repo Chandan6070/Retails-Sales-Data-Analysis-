{
 "cells": [
  {
   "cell_type": "code",
   "execution_count": 14,
   "id": "141d5d03",
   "metadata": {},
   "outputs": [],
   "source": [
    "import findspark\n",
    "findspark.init()\n",
    "import pyspark\n",
    "from pyspark.sql.functions import *"
   ]
  },
  {
   "cell_type": "code",
   "execution_count": 4,
   "id": "2e8a6577",
   "metadata": {},
   "outputs": [],
   "source": [
    "from pyspark.sql import SparkSession"
   ]
  },
  {
   "cell_type": "code",
   "execution_count": 5,
   "id": "f5eaade6",
   "metadata": {},
   "outputs": [],
   "source": [
    "spark = SparkSession.builder.appName(\"Cpastone Project\").getOrCreate()"
   ]
  },
  {
   "cell_type": "code",
   "execution_count": 6,
   "id": "18303dbc",
   "metadata": {},
   "outputs": [
    {
     "data": {
      "text/html": [
       "\n",
       "            <div>\n",
       "                <p><b>SparkSession - in-memory</b></p>\n",
       "                \n",
       "        <div>\n",
       "            <p><b>SparkContext</b></p>\n",
       "\n",
       "            <p><a href=\"http://miles:4040\">Spark UI</a></p>\n",
       "\n",
       "            <dl>\n",
       "              <dt>Version</dt>\n",
       "                <dd><code>v3.3.2</code></dd>\n",
       "              <dt>Master</dt>\n",
       "                <dd><code>local[*]</code></dd>\n",
       "              <dt>AppName</dt>\n",
       "                <dd><code>Cpastone Project</code></dd>\n",
       "            </dl>\n",
       "        </div>\n",
       "        \n",
       "            </div>\n",
       "        "
      ],
      "text/plain": [
       "<pyspark.sql.session.SparkSession at 0x2314a4d2040>"
      ]
     },
     "execution_count": 6,
     "metadata": {},
     "output_type": "execute_result"
    }
   ],
   "source": [
    "spark"
   ]
  },
  {
   "cell_type": "code",
   "execution_count": 75,
   "id": "733fad13",
   "metadata": {},
   "outputs": [],
   "source": [
    "df = spark.read.load(\"5000 Sales Records (1).csv\", format=\"csv\", sep = \",\", inferSchema= \"True\", header = \"True\")"
   ]
  },
  {
   "cell_type": "code",
   "execution_count": 51,
   "id": "c37a95ce",
   "metadata": {},
   "outputs": [
    {
     "name": "stdout",
     "output_type": "stream",
     "text": [
      "+--------------------+--------------------+---------------+-------------+--------------+----------+---------+----------+----------+----------+---------+-------------+----------+------------+\n",
      "|              Region|             Country|      Item Type|Sales Channel|Order Priority|Order Date| Order ID| Ship Date|Units Sold|Unit Price|Unit Cost|Total Revenue|Total Cost|Total Profit|\n",
      "+--------------------+--------------------+---------------+-------------+--------------+----------+---------+----------+----------+----------+---------+-------------+----------+------------+\n",
      "|Central America a...|Antigua and Barbuda |      Baby Food|       Online|             M|12/20/2013|957081544| 1/11/2014|       552|    255.28|   159.42|    140914.56|  87999.84|    52914.72|\n",
      "|Central America a...|              Panama|         Snacks|      Offline|             C|  7/5/2010|301644504| 7/26/2010|      2167|    152.58|    97.44|    330640.86| 211152.48|   119488.38|\n",
      "|              Europe|      Czech Republic|      Beverages|      Offline|             C| 9/12/2011|478051030| 9/29/2011|      4778|     47.45|    31.79|     226716.1| 151892.62|    74823.48|\n",
      "|                Asia|         North Korea|         Cereal|      Offline|             L| 5/13/2010|892599952| 6/15/2010|      9016|     205.7|   117.11|    1854591.2|1055863.76|   798727.44|\n",
      "|                Asia|           Sri Lanka|         Snacks|      Offline|             C| 7/20/2015|571902596| 7/27/2015|      7542|    152.58|    97.44|   1150758.36| 734892.48|   415865.88|\n",
      "|Middle East and N...|             Morocco|  Personal Care|      Offline|             L| 11/8/2010|412882792|11/22/2010|        48|     81.73|    56.67|      3923.04|   2720.16|     1202.88|\n",
      "|Australia and Oce...|Federated States ...|        Clothes|      Offline|             H| 3/28/2011|932776868| 5/10/2011|      8258|    109.28|    35.84|    902434.24| 295966.72|   606467.52|\n",
      "|              Europe|Bosnia and Herzeg...|        Clothes|       Online|             M|10/14/2013|919133651| 11/4/2013|       927|    109.28|    35.84|    101302.56|  33223.68|    68078.88|\n",
      "|Middle East and N...|         Afghanistan|        Clothes|      Offline|             M| 8/27/2016|579814469| 10/5/2016|      8841|    109.28|    35.84|    966144.48| 316861.44|   649283.04|\n",
      "|  Sub-Saharan Africa|            Ethiopia|      Baby Food|       Online|             M| 4/13/2015|192993152|  5/7/2015|      9817|    255.28|   159.42|   2506083.76|1565026.14|   941057.62|\n",
      "|Middle East and N...|              Turkey|Office Supplies|      Offline|             C| 9/25/2013|557156026|10/15/2013|      3704|    651.21|   524.96|   2412081.84|1944451.84|    467630.0|\n",
      "|Middle East and N...|                Oman|      Cosmetics|       Online|             M| 5/12/2013|741101920| 5/17/2013|      7382|     437.2|   263.33|    3227410.4|1943902.06|  1283508.34|\n",
      "|                Asia|            Malaysia|         Cereal|      Offline|             L| 7/31/2016|333942162| 8/25/2016|      9762|     205.7|   117.11|    2008043.4|1143227.82|   864815.58|\n",
      "|Central America a...|         Saint Lucia|      Cosmetics|      Offline|             H|  7/6/2015|795100581| 7/16/2015|      6786|     437.2|   263.33|    2966839.2|1786957.38|  1179881.82|\n",
      "|Central America a...|Saint Vincent and...|      Baby Food|       Online|             L|11/28/2010|504313504| 12/3/2010|      6428|    255.28|   159.42|   1640939.84|1024751.76|   616188.08|\n",
      "|Middle East and N...|             Lebanon|           Meat|      Offline|             H|12/17/2015|611629760| 1/31/2016|      3693|    421.89|   364.69|   1558039.77|1346800.17|    211239.6|\n",
      "|              Europe|             Austria|         Cereal|      Offline|             C| 8/13/2014|987410676|  9/6/2014|      5616|     205.7|   117.11|    1155211.2| 657689.76|   497521.44|\n",
      "|              Europe|            Bulgaria|Office Supplies|       Online|             L|10/31/2010|672330081|11/29/2010|      6266|    651.21|   524.96|   4080481.86|3289399.36|    791082.5|\n",
      "|       North America|              Mexico|      Beverages|       Online|             C| 3/13/2017|127374303| 3/20/2017|      1742|     47.45|    31.79|      82657.9|  55378.18|    27279.72|\n",
      "|Central America a...| Trinidad and Tobago|      Baby Food|      Offline|             C| 4/16/2013|783842170|  6/1/2013|      5172|    255.28|   159.42|   1320308.16| 824520.24|   495787.92|\n",
      "+--------------------+--------------------+---------------+-------------+--------------+----------+---------+----------+----------+----------+---------+-------------+----------+------------+\n",
      "only showing top 20 rows\n",
      "\n"
     ]
    }
   ],
   "source": [
    "df.show()"
   ]
  },
  {
   "cell_type": "code",
   "execution_count": 52,
   "id": "badbe215",
   "metadata": {},
   "outputs": [
    {
     "name": "stdout",
     "output_type": "stream",
     "text": [
      "root\n",
      " |-- Region: string (nullable = true)\n",
      " |-- Country: string (nullable = true)\n",
      " |-- Item Type: string (nullable = true)\n",
      " |-- Sales Channel: string (nullable = true)\n",
      " |-- Order Priority: string (nullable = true)\n",
      " |-- Order Date: string (nullable = true)\n",
      " |-- Order ID: integer (nullable = true)\n",
      " |-- Ship Date: string (nullable = true)\n",
      " |-- Units Sold: integer (nullable = true)\n",
      " |-- Unit Price: double (nullable = true)\n",
      " |-- Unit Cost: double (nullable = true)\n",
      " |-- Total Revenue: double (nullable = true)\n",
      " |-- Total Cost: double (nullable = true)\n",
      " |-- Total Profit: double (nullable = true)\n",
      "\n"
     ]
    }
   ],
   "source": [
    "df.printSchema()"
   ]
  },
  {
   "cell_type": "code",
   "execution_count": 79,
   "id": "33197fb1",
   "metadata": {},
   "outputs": [],
   "source": [
    "spark.sql(\"set spark.sql.legacy.timeParserPolicy=LEGACY\")\n",
    "df1 = df.withColumn('Order Date', to_date(df[\"Order Date\"], 'MM/dd/yyyy')).withColumn('Ship Date', to_date(df[\"Ship Date\"], 'MM/dd/yyyy'))"
   ]
  },
  {
   "cell_type": "code",
   "execution_count": 82,
   "id": "860b7d29",
   "metadata": {},
   "outputs": [
    {
     "name": "stdout",
     "output_type": "stream",
     "text": [
      "root\n",
      " |-- Region: string (nullable = true)\n",
      " |-- Country: string (nullable = true)\n",
      " |-- Item Type: string (nullable = true)\n",
      " |-- Sales Channel: string (nullable = true)\n",
      " |-- Order Priority: string (nullable = true)\n",
      " |-- Order Date: date (nullable = true)\n",
      " |-- Order ID: integer (nullable = true)\n",
      " |-- Ship Date: date (nullable = true)\n",
      " |-- Units Sold: integer (nullable = true)\n",
      " |-- Unit Price: double (nullable = true)\n",
      " |-- Unit Cost: double (nullable = true)\n",
      " |-- Total Revenue: double (nullable = true)\n",
      " |-- Total Cost: double (nullable = true)\n",
      " |-- Total Profit: double (nullable = true)\n",
      "\n",
      "+--------------------+--------------------+---------+-------------+--------------+----------+---------+----------+----------+----------+---------+-------------+----------+------------+\n",
      "|              Region|             Country|Item Type|Sales Channel|Order Priority|Order Date| Order ID| Ship Date|Units Sold|Unit Price|Unit Cost|Total Revenue|Total Cost|Total Profit|\n",
      "+--------------------+--------------------+---------+-------------+--------------+----------+---------+----------+----------+----------+---------+-------------+----------+------------+\n",
      "|Central America a...|Antigua and Barbuda |Baby Food|       Online|             M|2013-12-20|957081544|2014-01-11|       552|    255.28|   159.42|    140914.56|  87999.84|    52914.72|\n",
      "|Central America a...|              Panama|   Snacks|      Offline|             C|2010-07-05|301644504|2010-07-26|      2167|    152.58|    97.44|    330640.86| 211152.48|   119488.38|\n",
      "|              Europe|      Czech Republic|Beverages|      Offline|             C|2011-09-12|478051030|2011-09-29|      4778|     47.45|    31.79|     226716.1| 151892.62|    74823.48|\n",
      "|                Asia|         North Korea|   Cereal|      Offline|             L|2010-05-13|892599952|2010-06-15|      9016|     205.7|   117.11|    1854591.2|1055863.76|   798727.44|\n",
      "|                Asia|           Sri Lanka|   Snacks|      Offline|             C|2015-07-20|571902596|2015-07-27|      7542|    152.58|    97.44|   1150758.36| 734892.48|   415865.88|\n",
      "+--------------------+--------------------+---------+-------------+--------------+----------+---------+----------+----------+----------+---------+-------------+----------+------------+\n",
      "only showing top 5 rows\n",
      "\n"
     ]
    }
   ],
   "source": [
    "df1.printSchema()\n",
    "df1.show(5)"
   ]
  },
  {
   "cell_type": "markdown",
   "id": "b0346cee",
   "metadata": {},
   "source": [
    "##### 1)yearly sales report"
   ]
  },
  {
   "cell_type": "code",
   "execution_count": 137,
   "id": "c9be1767",
   "metadata": {},
   "outputs": [],
   "source": [
    "yearly_sales = df1.groupBy(year(\"Order Date\").alias(\"Year\")).agg(sum(\"Total Revenue\").alias(\"Sales\")).orderBy(\"Year\")"
   ]
  },
  {
   "cell_type": "code",
   "execution_count": 138,
   "id": "a771ae25",
   "metadata": {},
   "outputs": [
    {
     "name": "stdout",
     "output_type": "stream",
     "text": [
      "+----+--------------------+\n",
      "|Year|               Sales|\n",
      "+----+--------------------+\n",
      "|2010| 8.177653681700003E8|\n",
      "|2011|      8.3762222024E8|\n",
      "|2012| 9.036474228000004E8|\n",
      "|2013| 9.028807039600003E8|\n",
      "|2014| 8.563977455599985E8|\n",
      "|2015| 9.845037861999993E8|\n",
      "|2016| 8.553197613500007E8|\n",
      "|2017|4.7055220025999993E8|\n",
      "+----+--------------------+\n",
      "\n"
     ]
    }
   ],
   "source": [
    "yearly_sales.show()"
   ]
  },
  {
   "cell_type": "markdown",
   "id": "41af349f",
   "metadata": {},
   "source": [
    "##### 2)Yearly sum for all country"
   ]
  },
  {
   "cell_type": "code",
   "execution_count": 139,
   "id": "2ddeabab",
   "metadata": {},
   "outputs": [],
   "source": [
    "country_yearly_sales = df1.groupBy([\"Country\",year(\"Order Date\").alias(\"Years\")]).agg(sum(\"Total Revenue\").alias(\"Sales\")).orderBy(\"Country\",\"Years\")"
   ]
  },
  {
   "cell_type": "code",
   "execution_count": 140,
   "id": "4da37e12",
   "metadata": {},
   "outputs": [
    {
     "name": "stdout",
     "output_type": "stream",
     "text": [
      "+-----------+-----+------------------+\n",
      "|    Country|Years|             Sales|\n",
      "+-----------+-----+------------------+\n",
      "|Afghanistan| 2011|         527705.38|\n",
      "|Afghanistan| 2012|2673576.5799999996|\n",
      "|Afghanistan| 2013|1608517.0999999999|\n",
      "|Afghanistan| 2014|7612873.7299999995|\n",
      "|Afghanistan| 2015|        5163510.99|\n",
      "|Afghanistan| 2016|        1205425.05|\n",
      "|Afghanistan| 2017|         508089.88|\n",
      "|    Albania| 2010|        8531301.81|\n",
      "|    Albania| 2011|        3265577.84|\n",
      "|    Albania| 2012|        5984703.94|\n",
      "|    Albania| 2013|         644070.88|\n",
      "|    Albania| 2014|         235189.76|\n",
      "|    Albania| 2015|        6377576.71|\n",
      "|    Albania| 2016|         6017628.7|\n",
      "|    Albania| 2017|        1168804.23|\n",
      "|    Algeria| 2010|        1131473.33|\n",
      "|    Algeria| 2011|         964772.08|\n",
      "|    Algeria| 2012|        2906605.58|\n",
      "|    Algeria| 2013|        2034334.18|\n",
      "|    Algeria| 2014|        1834602.26|\n",
      "+-----------+-----+------------------+\n",
      "only showing top 20 rows\n",
      "\n"
     ]
    }
   ],
   "source": [
    "country_yearly_sales.show()"
   ]
  },
  {
   "cell_type": "markdown",
   "id": "c0388aca",
   "metadata": {},
   "source": [
    "##### 3)Select yr, SUM(amt) from finaldata"
   ]
  },
  {
   "cell_type": "code",
   "execution_count": 141,
   "id": "5d5db333",
   "metadata": {},
   "outputs": [
    {
     "name": "stdout",
     "output_type": "stream",
     "text": [
      "+----+--------------------+\n",
      "|Year|               Sales|\n",
      "+----+--------------------+\n",
      "|2010| 8.177653681700003E8|\n",
      "|2011|      8.3762222024E8|\n",
      "|2012| 9.036474228000004E8|\n",
      "|2013| 9.028807039600003E8|\n",
      "|2014| 8.563977455599985E8|\n",
      "|2015| 9.845037861999993E8|\n",
      "|2016| 8.553197613500007E8|\n",
      "|2017|4.7055220025999993E8|\n",
      "+----+--------------------+\n",
      "\n"
     ]
    }
   ],
   "source": [
    "yearly_sales = df1.groupBy(year(\"Order Date\").alias(\"Year\")).agg(sum(\"Total Revenue\").alias(\"Sales\")).orderBy(\"Year\")\n",
    "yearly_sales.show()"
   ]
  },
  {
   "cell_type": "markdown",
   "id": "ec662263",
   "metadata": {},
   "source": [
    "##### 6) monthly sales report of a perticular year"
   ]
  },
  {
   "cell_type": "code",
   "execution_count": 115,
   "id": "4fd6fffc",
   "metadata": {},
   "outputs": [
    {
     "name": "stdout",
     "output_type": "stream",
     "text": [
      "+-----+-----+--------------------+\n",
      "|Years|Month|               Sales|\n",
      "+-----+-----+--------------------+\n",
      "| 2010|    1|5.6117500219999984E7|\n",
      "| 2010|    2| 6.149703725999998E7|\n",
      "| 2010|    3|3.2563351479999997E7|\n",
      "| 2010|    4| 5.008999801000001E7|\n",
      "| 2010|    5| 6.251231557999999E7|\n",
      "| 2010|    6| 5.518854506000001E7|\n",
      "| 2010|    7|2.8828290519999996E7|\n",
      "| 2010|    8| 5.163789438999999E7|\n",
      "| 2010|    9|        4.10263253E7|\n",
      "| 2010|   10|       4.209123058E7|\n",
      "| 2010|   11| 3.881841093000001E7|\n",
      "| 2010|   12|       5.583074315E7|\n",
      "| 2011|    1| 3.531044195000001E7|\n",
      "| 2011|    2|4.8128704180000015E7|\n",
      "| 2011|    3| 4.932200064999999E7|\n",
      "| 2011|    4|3.0250918640000004E7|\n",
      "| 2011|    5| 5.099740488000001E7|\n",
      "| 2011|    6|       4.028547157E7|\n",
      "| 2011|    7|6.0774376599999994E7|\n",
      "| 2011|    8|5.4067997589999996E7|\n",
      "+-----+-----+--------------------+\n",
      "only showing top 20 rows\n",
      "\n"
     ]
    }
   ],
   "source": [
    "monthly_sales = df1.groupBy([year(\"Order Date\").alias(\"Years\"), month(\"Order Date\").alias(\"Month\")]).agg(sum(\"Total Cost\").alias(\"Sales\")).orderBy(\"Years\",\"Month\")\n",
    "monthly_sales.show()"
   ]
  },
  {
   "cell_type": "markdown",
   "id": "7e815c45",
   "metadata": {},
   "source": [
    "##### 7)quarterly sales report of a particular year"
   ]
  },
  {
   "cell_type": "code",
   "execution_count": 142,
   "id": "088dba05",
   "metadata": {},
   "outputs": [
    {
     "name": "stdout",
     "output_type": "stream",
     "text": [
      "+----+-------+--------------------+\n",
      "|Year|Quarter|  sum(Total Revenue)|\n",
      "+----+-------+--------------------+\n",
      "|2010|      1|2.1568648214000002E8|\n",
      "|2010|      2| 2.328106550899999E8|\n",
      "|2010|      3|1.7718539354999992E8|\n",
      "|2010|      4| 1.920828373899999E8|\n",
      "|2011|      1| 1.958348384799999E8|\n",
      "|2011|      2|      1.7647134479E8|\n",
      "|2011|      3|      2.3487859321E8|\n",
      "|2011|      4|2.3043744375999996E8|\n",
      "|2012|      1|2.5948719668999994E8|\n",
      "|2012|      2|2.2292645934999993E8|\n",
      "|2012|      3|2.1255167141999993E8|\n",
      "|2012|      4|2.0868209533999994E8|\n",
      "|2013|      1|2.3419277444999996E8|\n",
      "|2013|      2|1.8661791348999992E8|\n",
      "|2013|      3|2.4164184929999998E8|\n",
      "|2013|      4|2.4042816672000012E8|\n",
      "|2014|      1|2.3005481114000008E8|\n",
      "|2014|      2|2.1748007145999995E8|\n",
      "|2014|      3|2.1132196698999998E8|\n",
      "|2014|      4|1.9754089597000015E8|\n",
      "+----+-------+--------------------+\n",
      "only showing top 20 rows\n",
      "\n"
     ]
    }
   ],
   "source": [
    "q = df1.groupBy([year(\"Order Date\").alias(\"Year\"), quarter(\"Order Date\").alias(\"Quarter\")]).agg(sum(\"Total Revenue\")).orderBy(\"Year\",\"Quarter\")\n",
    "q.show()"
   ]
  },
  {
   "cell_type": "markdown",
   "id": "c5fe5f81",
   "metadata": {},
   "source": [
    "##### 9) half yearly sales"
   ]
  },
  {
   "cell_type": "code",
   "execution_count": 132,
   "id": "8bd94cb8",
   "metadata": {},
   "outputs": [],
   "source": [
    "#made copy of existing data\n",
    "half = df1.alias(\"half\")"
   ]
  },
  {
   "cell_type": "code",
   "execution_count": 143,
   "id": "87e42b02",
   "metadata": {},
   "outputs": [
    {
     "name": "stdout",
     "output_type": "stream",
     "text": [
      "+----+---------+--------------------+\n",
      "|Year|half year|               Sales|\n",
      "+----+---------+--------------------+\n",
      "|2010|        1| 4.484971372299999E8|\n",
      "|2010|        2|3.6926823094000006E8|\n",
      "|2011|        1|3.7230618326999974E8|\n",
      "|2011|        2| 4.653160369699997E8|\n",
      "|2012|        1|4.8241365604000014E8|\n",
      "|2012|        2| 4.212337667599995E8|\n",
      "|2013|        1|4.2081068793999994E8|\n",
      "|2013|        2|4.8207001602000016E8|\n",
      "|2014|        1| 4.475348826000001E8|\n",
      "|2014|        2| 4.088628629600001E8|\n",
      "|2015|        1| 5.000842648100001E8|\n",
      "|2015|        2|      4.8441952139E8|\n",
      "|2016|        1|3.9953615623000014E8|\n",
      "|2016|        2| 4.557836051199997E8|\n",
      "|2017|        1|      4.0358302055E8|\n",
      "|2017|        2|6.6969179709999986E7|\n",
      "+----+---------+--------------------+\n",
      "\n"
     ]
    }
   ],
   "source": [
    "half = half.withColumn(\"Year\",year(\"Order Date\")).withColumn(\"Month\",month(\"Order Date\"))\n",
    "half = half.withColumn(\"half year\", expr(\"(Month - 1) div 6 + 1\"))\n",
    "half_yearly_sales = half.groupBy('Year', 'half year').agg(sum('Total Revenue').alias('Sales')).orderBy(\"Year\",\"half year\")\n",
    "half_yearly_sales.show()"
   ]
  },
  {
   "cell_type": "markdown",
   "id": "27c99164",
   "metadata": {},
   "source": [
    "##### 16.) in a specific quart which product made more bussiness"
   ]
  },
  {
   "cell_type": "code",
   "execution_count": 133,
   "id": "2ea2a527",
   "metadata": {},
   "outputs": [
    {
     "name": "stdout",
     "output_type": "stream",
     "text": [
      "root\n",
      " |-- Region: string (nullable = true)\n",
      " |-- Country: string (nullable = true)\n",
      " |-- Item Type: string (nullable = true)\n",
      " |-- Sales Channel: string (nullable = true)\n",
      " |-- Order Priority: string (nullable = true)\n",
      " |-- Order Date: date (nullable = true)\n",
      " |-- Order ID: integer (nullable = true)\n",
      " |-- Ship Date: date (nullable = true)\n",
      " |-- Units Sold: integer (nullable = true)\n",
      " |-- Unit Price: double (nullable = true)\n",
      " |-- Unit Cost: double (nullable = true)\n",
      " |-- Total Revenue: double (nullable = true)\n",
      " |-- Total Cost: double (nullable = true)\n",
      " |-- Total Profit: double (nullable = true)\n",
      "\n"
     ]
    }
   ],
   "source": [
    "df1.printSchema()"
   ]
  },
  {
   "cell_type": "code",
   "execution_count": 144,
   "id": "c3a9d05c",
   "metadata": {},
   "outputs": [
    {
     "name": "stdout",
     "output_type": "stream",
     "text": [
      "+---------+-------+--------------------+\n",
      "|Item Type|Quarter|               Sales|\n",
      "+---------+-------+--------------------+\n",
      "|Baby Food|      1|1.4241075607999998E8|\n",
      "|Baby Food|      2|      1.5099863056E8|\n",
      "|Baby Food|      3| 1.619238487199999E8|\n",
      "|Baby Food|      4|1.2540859752000003E8|\n",
      "|Beverages|      1|        2.83470096E7|\n",
      "|Beverages|      2|2.6607207900000002E7|\n",
      "|Beverages|      3|2.7641570450000007E7|\n",
      "|Beverages|      4|2.2181831099999998E7|\n",
      "|   Cereal|      1|1.3220524129999992E8|\n",
      "|   Cereal|      2| 8.704483479999998E7|\n",
      "|   Cereal|      3| 8.622985139999999E7|\n",
      "|   Cereal|      4| 9.555299819999999E7|\n",
      "|  Clothes|      1|4.9302218400000006E7|\n",
      "|  Clothes|      2| 6.015197392000001E7|\n",
      "|  Clothes|      3|        6.03859424E7|\n",
      "|  Clothes|      4| 4.691073487999997E7|\n",
      "|Cosmetics|      1| 2.622369320000001E8|\n",
      "|Cosmetics|      2| 2.484646947999999E8|\n",
      "|Cosmetics|      3| 2.182480540000001E8|\n",
      "|Cosmetics|      4|2.0749293399999997E8|\n",
      "+---------+-------+--------------------+\n",
      "only showing top 20 rows\n",
      "\n"
     ]
    }
   ],
   "source": [
    "p = df1.groupBy([\"Item Type\", quarter(\"Order Date\").alias(\"Quarter\")]).agg(sum(\"Total Revenue\").alias(\"Sales\")).orderBy(\"Item Type\",\"Quarter\")\n",
    "p.show()"
   ]
  },
  {
   "cell_type": "code",
   "execution_count": null,
   "id": "4475a26a",
   "metadata": {},
   "outputs": [],
   "source": []
  }
 ],
 "metadata": {
  "kernelspec": {
   "display_name": "Python 3 (ipykernel)",
   "language": "python",
   "name": "python3"
  },
  "language_info": {
   "codemirror_mode": {
    "name": "ipython",
    "version": 3
   },
   "file_extension": ".py",
   "mimetype": "text/x-python",
   "name": "python",
   "nbconvert_exporter": "python",
   "pygments_lexer": "ipython3",
   "version": "3.9.13"
  }
 },
 "nbformat": 4,
 "nbformat_minor": 5
}
